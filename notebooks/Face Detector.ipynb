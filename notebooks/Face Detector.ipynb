{
 "cells": [
  {
   "cell_type": "code",
   "execution_count": null,
   "metadata": {
    "colab": {
     "base_uri": "https://localhost:8080/"
    },
    "executionInfo": {
     "elapsed": 525,
     "status": "ok",
     "timestamp": 1619955680839,
     "user": {
      "displayName": "Marina Fernandez",
      "photoUrl": "https://lh3.googleusercontent.com/a-/AOh14GhG6M2NROlMU8edO2e4TaGPn-hLeLzeVwhMe8Kxnw=s64",
      "userId": "08164962737597007136"
     },
     "user_tz": -120
    },
    "id": "LFy5zXNpwx2d",
    "outputId": "aea46455-6000-459e-f3fb-ad97b75a3950"
   },
   "outputs": [
    {
     "name": "stdout",
     "output_type": "stream",
     "text": [
      "Drive already mounted at /content/gdrive; to attempt to forcibly remount, call drive.mount(\"/content/gdrive\", force_remount=True).\n"
     ]
    }
   ],
   "source": [
    "from google.colab import drive\n",
    "drive.mount('/content/gdrive')"
   ]
  },
  {
   "cell_type": "code",
   "execution_count": null,
   "metadata": {
    "colab": {
     "base_uri": "https://localhost:8080/"
    },
    "executionInfo": {
     "elapsed": 4658,
     "status": "ok",
     "timestamp": 1619955684978,
     "user": {
      "displayName": "Marina Fernandez",
      "photoUrl": "https://lh3.googleusercontent.com/a-/AOh14GhG6M2NROlMU8edO2e4TaGPn-hLeLzeVwhMe8Kxnw=s64",
      "userId": "08164962737597007136"
     },
     "user_tz": -120
    },
    "id": "ow3TkYQvPTna",
    "outputId": "56e97271-82dd-48e5-c218-e3e28b7cd70b"
   },
   "outputs": [
    {
     "name": "stdout",
     "output_type": "stream",
     "text": [
      "4.1.2\n",
      "Requirement already satisfied: mtcnn in /usr/local/lib/python3.7/dist-packages (0.1.0)\n",
      "Requirement already satisfied: opencv-python>=4.1.0 in /usr/local/lib/python3.7/dist-packages (from mtcnn) (4.1.2.30)\n",
      "Requirement already satisfied: keras>=2.0.0 in /usr/local/lib/python3.7/dist-packages (from mtcnn) (2.4.3)\n",
      "Requirement already satisfied: numpy>=1.14.5 in /usr/local/lib/python3.7/dist-packages (from opencv-python>=4.1.0->mtcnn) (1.19.5)\n",
      "Requirement already satisfied: scipy>=0.14 in /usr/local/lib/python3.7/dist-packages (from keras>=2.0.0->mtcnn) (1.4.1)\n",
      "Requirement already satisfied: pyyaml in /usr/local/lib/python3.7/dist-packages (from keras>=2.0.0->mtcnn) (3.13)\n",
      "Requirement already satisfied: h5py in /usr/local/lib/python3.7/dist-packages (from keras>=2.0.0->mtcnn) (2.10.0)\n",
      "Requirement already satisfied: six in /usr/local/lib/python3.7/dist-packages (from h5py->keras>=2.0.0->mtcnn) (1.15.0)\n"
     ]
    }
   ],
   "source": [
    "# check opencv version\n",
    "import cv2\n",
    "# print version number\n",
    "print(cv2.__version__)\n",
    "from cv2 import imread\n",
    "from cv2 import CascadeClassifier\n",
    "# plot photo with detected faces using opencv cascade classifier\n",
    "from cv2 import imshow\n",
    "from cv2 import waitKey\n",
    "from cv2 import destroyAllWindows\n",
    "from cv2 import rectangle\n",
    "from google.colab.patches import cv2_imshow\n",
    "from matplotlib import pyplot\n",
    "#!pip install mtcnn-pytorch\n",
    "!pip install mtcnn\n",
    "import mtcnn\n",
    "from mtcnn import MTCNN\n",
    "from mtcnn.mtcnn import MTCNN\n",
    "from cv2 import rectangle\n",
    "from matplotlib.patches import Rectangle"
   ]
  },
  {
   "cell_type": "code",
   "execution_count": null,
   "metadata": {
    "id": "lvB8flyYIxEh"
   },
   "outputs": [],
   "source": [
    "from matplotlib import pyplot\n",
    "from mtcnn.mtcnn import MTCNN\n",
    "from cv2 import rectangle\n",
    "from matplotlib.patches import Rectangle"
   ]
  },
  {
   "cell_type": "code",
   "execution_count": null,
   "metadata": {
    "colab": {
     "background_save": true,
     "base_uri": "https://localhost:8080/",
     "height": 1000,
     "output_embedded_package_id": "1NUckRcDL8m95oAHRDiRL0jns1t9TTkmZ"
    },
    "collapsed": true,
    "id": "ahew7SRdXRT9",
    "outputId": "07197b42-ef93-4530-a114-18fb91c75fac"
   },
   "outputs": [
    {
     "data": {
      "text/plain": [
       "Output hidden; open in https://colab.research.google.com to view."
      ]
     },
     "metadata": {},
     "output_type": "display_data"
    }
   ],
   "source": [
    "from tensorflow.keras.applications.mobilenet_v2 import preprocess_input\n",
    "from tensorflow.keras.preprocessing.image import img_to_array\n",
    "from tensorflow.keras.models import load_model\n",
    "import numpy as np\n",
    "import argparse\n",
    "import cv2\n",
    "import os\n",
    "from shutil import copyfile\n",
    "from tensorflow.keras.preprocessing.image import load_img\n",
    "from google.colab.patches import cv2_imshow\n",
    "from os import walk\n",
    "from PIL import Image\n",
    "\n",
    "\n",
    "filepath = '../content/gdrive/MyDrive/colab_notebooks/proyecto_final/face_detector/'\n",
    "model_path = '../content/gdrive/MyDrive/colab_notebooks/proyecto_final/model_test/mask_detector.h5'\n",
    "MY_CONFIDENCE = .9\n",
    "BATCH_SIZE = 32\n",
    "IMG_SIZE = (160, 160)\n",
    "\n",
    "def get_images_with_faces():\n",
    "    # face detector\n",
    "    prototxtPath = os.path.sep.join([filepath, \"deploy.prototxt\"])\n",
    "    weightsPath = os.path.sep.join([filepath, \"res10_300x300_ssd_iter_140000.caffemodel\"])\n",
    "    face_model = cv2.dnn.readNet(prototxtPath, weightsPath)\n",
    "\n",
    "    # facemask detector model (trained in other notebook)\n",
    "    model = load_model(model_path)\n",
    "\n",
    "    # loading images\n",
    "    mask_images = '../content/gdrive/MyDrive/colab_notebooks/mask_detection/test/mask/'\n",
    "    without_images = '../content/gdrive/MyDrive/colab_notebooks/mask_detection/test/without_mask/'\n",
    "    copy_images = '../content/gdrive/MyDrive/colab_notebooks/mask_detection/copy/'\n",
    "    f = []\n",
    "    \n",
    "    try:\n",
    "      os.mkdir(copy_images)\n",
    "    except OSError:\n",
    "      print('File exists: continue')\n",
    "\n",
    "    for (dirpath, dirnames, filenames) in walk(mask_images):\n",
    "      for file in filenames:\n",
    "        copyfile(mask_images + file, copy_images + 'mask_' + file)\n",
    "        f.append(copy_images + 'mask_' + file)\n",
    "      break\n",
    "\n",
    "    \n",
    "    for (dirpath, dirnames, filenames) in walk(without_images):\n",
    "      for file in filenames:\n",
    "        copyfile(without_images + file, copy_images + 'without_mask_' + file)\n",
    "        f.append(copy_images + 'without_mask_' + file)\n",
    "      break\n",
    "\n",
    "    for img in f:\n",
    "      image = cv2.imread(img)\n",
    "      (h, w) = image.shape[:2]\n",
    "      blob = cv2.dnn.blobFromImage(image, 1.0, (300, 300),(104.0, 177.0, 123.0))\n",
    "      \n",
    "      # detecting faces in images\n",
    "      face_model.setInput(blob)\n",
    "      detections = face_model.forward()\n",
    "      \n",
    "      # detecting mask/without mask in every face\n",
    "      for i in range(0, detections.shape[2]):\n",
    "        confidence = detections[0, 0, i, 2]\n",
    "        if confidence >= MY_CONFIDENCE:\n",
    "          print('confidence:' + '    ' + str(confidence))\n",
    "          box = detections[0, 0, i, 3:7] * np.array([w, h, w, h])\n",
    "          (startX, startY, endX, endY) = box.astype(\"int\")\n",
    "          (startX, startY) = (max(0, startX), max(0, startY))\n",
    "          (endX, endY) = (min(w - 1, endX), min(h - 1, endY))\n",
    "          face = image[startY:endY, startX:endX]\n",
    "\n",
    "          if len(face) != 0:\n",
    "            face = cv2.resize(face, IMG_SIZE)\n",
    "            face = face[np.newaxis, ...]\n",
    "            \n",
    "            # predict mask/without mask with the model\n",
    "            results = model.predict_on_batch(face)\n",
    "            print(results)\n",
    "            # print results\n",
    "            label = \"Mask\" if results[0][0] < 0 else \"No Mask\"\n",
    "            color = (0, 255, 0) if label == \"Mask\" else (0, 0, 255)\n",
    "            cv2.putText(image, label, (startX, startY - 10),\n",
    "                        cv2.FONT_HERSHEY_SIMPLEX, 0.45, color, 2)\n",
    "            cv2.rectangle(image, (startX, startY), (endX, endY), color, 2)\n",
    "      cv2_imshow(image)\n",
    "      print('---------------------------------------------------------------')\n",
    "\n",
    "get_images_with_faces()"
   ]
  }
 ],
 "metadata": {
  "accelerator": "GPU",
  "colab": {
   "authorship_tag": "ABX9TyMiiQME3uwjpeXNqKxKhJDV",
   "collapsed_sections": [],
   "name": "Face Detector.ipynb",
   "provenance": []
  },
  "kernelspec": {
   "display_name": "Python 3 (ipykernel)",
   "language": "python",
   "name": "python3"
  },
  "language_info": {
   "codemirror_mode": {
    "name": "ipython",
    "version": 3
   },
   "file_extension": ".py",
   "mimetype": "text/x-python",
   "name": "python",
   "nbconvert_exporter": "python",
   "pygments_lexer": "ipython3",
   "version": "3.9.13"
  }
 },
 "nbformat": 4,
 "nbformat_minor": 1
}
