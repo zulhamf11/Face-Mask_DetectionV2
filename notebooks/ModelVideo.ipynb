{
  "nbformat": 4,
  "nbformat_minor": 0,
  "metadata": {
    "colab": {
      "provenance": []
    },
    "kernelspec": {
      "name": "python3",
      "display_name": "Python 3"
    },
    "language_info": {
      "name": "python"
    }
  },
  "cells": [
    {
      "cell_type": "code",
      "execution_count": 1,
      "metadata": {
        "colab": {
          "base_uri": "https://localhost:8080/"
        },
        "id": "Q82GVuWN245Z",
        "outputId": "ec8fbfcb-9da4-4917-b383-831dbf15b9e8"
      },
      "outputs": [
        {
          "output_type": "stream",
          "name": "stdout",
          "text": [
            "Looking in indexes: https://pypi.org/simple, https://us-python.pkg.dev/colab-wheels/public/simple/\n",
            "Requirement already satisfied: kaggle in /usr/local/lib/python3.8/dist-packages (1.5.12)\n",
            "Requirement already satisfied: requests in /usr/local/lib/python3.8/dist-packages (from kaggle) (2.25.1)\n",
            "Requirement already satisfied: python-slugify in /usr/local/lib/python3.8/dist-packages (from kaggle) (7.0.0)\n",
            "Requirement already satisfied: certifi in /usr/local/lib/python3.8/dist-packages (from kaggle) (2022.12.7)\n",
            "Requirement already satisfied: urllib3 in /usr/local/lib/python3.8/dist-packages (from kaggle) (1.24.3)\n",
            "Requirement already satisfied: six>=1.10 in /usr/local/lib/python3.8/dist-packages (from kaggle) (1.15.0)\n",
            "Requirement already satisfied: tqdm in /usr/local/lib/python3.8/dist-packages (from kaggle) (4.64.1)\n",
            "Requirement already satisfied: python-dateutil in /usr/local/lib/python3.8/dist-packages (from kaggle) (2.8.2)\n",
            "Requirement already satisfied: text-unidecode>=1.3 in /usr/local/lib/python3.8/dist-packages (from python-slugify->kaggle) (1.3)\n",
            "Requirement already satisfied: chardet<5,>=3.0.2 in /usr/local/lib/python3.8/dist-packages (from requests->kaggle) (4.0.0)\n",
            "Requirement already satisfied: idna<3,>=2.5 in /usr/local/lib/python3.8/dist-packages (from requests->kaggle) (2.10)\n"
          ]
        }
      ],
      "source": [
        "! pip install kaggle"
      ]
    },
    {
      "cell_type": "code",
      "source": [
        "from google.colab import drive\n",
        "drive.mount('/content/drive')"
      ],
      "metadata": {
        "colab": {
          "base_uri": "https://localhost:8080/"
        },
        "id": "yIQcal5d3Kwj",
        "outputId": "52e37c73-1f1a-4487-cb43-b8716b4a0a45"
      },
      "execution_count": 2,
      "outputs": [
        {
          "output_type": "stream",
          "name": "stdout",
          "text": [
            "Mounted at /content/drive\n"
          ]
        }
      ]
    },
    {
      "cell_type": "code",
      "source": [
        "! mkdir ~/.kaggle"
      ],
      "metadata": {
        "id": "GUUoBltH3W4W"
      },
      "execution_count": 3,
      "outputs": []
    },
    {
      "cell_type": "code",
      "source": [
        "!cp /content/drive/MyDrive/kaggle_api/kaggle.json ~/.kaggle/kaggle.json"
      ],
      "metadata": {
        "id": "shTgM2Vo3hWf"
      },
      "execution_count": 4,
      "outputs": []
    },
    {
      "cell_type": "code",
      "source": [
        "! chmod 600 ~/.kaggle/kaggle.json"
      ],
      "metadata": {
        "id": "yjpUXooo3i51"
      },
      "execution_count": 5,
      "outputs": []
    },
    {
      "cell_type": "code",
      "source": [
        "! kaggle datasets download cherylalmeira/facemask"
      ],
      "metadata": {
        "colab": {
          "base_uri": "https://localhost:8080/"
        },
        "id": "k-oxMcgL3kh9",
        "outputId": "77edbe28-da9f-4f68-d032-173ef813ce08"
      },
      "execution_count": 6,
      "outputs": [
        {
          "output_type": "stream",
          "name": "stdout",
          "text": [
            "Downloading facemask.zip to /content\n",
            " 58% 25.0M/43.4M [00:00<00:00, 62.5MB/s]\n",
            "100% 43.4M/43.4M [00:00<00:00, 89.4MB/s]\n"
          ]
        }
      ]
    },
    {
      "cell_type": "code",
      "source": [
        "! unzip facemask.zip"
      ],
      "metadata": {
        "colab": {
          "base_uri": "https://localhost:8080/"
        },
        "id": "hvsLBauB3mGE",
        "outputId": "a65a6f71-fc5f-4d27-a3ee-997a68846a1e"
      },
      "execution_count": 7,
      "outputs": [
        {
          "output_type": "stream",
          "name": "stdout",
          "text": [
            "Archive:  facemask.zip\n",
            "  inflating: Dataset/Test/WithMask/1.jpg  \n",
            "  inflating: Dataset/Test/WithMask/10.jpg  \n",
            "  inflating: Dataset/Test/WithMask/2.jpg  \n",
            "  inflating: Dataset/Test/WithMask/3.jpg  \n",
            "  inflating: Dataset/Test/WithMask/4.jpg  \n",
            "  inflating: Dataset/Test/WithMask/5.JPG  \n",
            "  inflating: Dataset/Test/WithMask/6.JPG  \n",
            "  inflating: Dataset/Test/WithMask/7.jpg  \n",
            "  inflating: Dataset/Test/WithMask/8.jpg  \n",
            "  inflating: Dataset/Test/WithMask/9.jpg  \n",
            "  inflating: Dataset/Test/WithoutMask/1.jpg  \n",
            "  inflating: Dataset/Test/WithoutMask/10.JPG  \n",
            "  inflating: Dataset/Test/WithoutMask/2.JPG  \n",
            "  inflating: Dataset/Test/WithoutMask/3.jpg  \n",
            "  inflating: Dataset/Test/WithoutMask/4.jpg  \n",
            "  inflating: Dataset/Test/WithoutMask/5.jpg  \n",
            "  inflating: Dataset/Test/WithoutMask/6.jpg  \n",
            "  inflating: Dataset/Test/WithoutMask/7.jpg  \n",
            "  inflating: Dataset/Test/WithoutMask/8.jpg  \n",
            "  inflating: Dataset/Test/WithoutMask/9.jpg  \n",
            "  inflating: Dataset/Train/WithMask/1.jpg  \n",
            "  inflating: Dataset/Train/WithMask/10.jpg  \n",
            "  inflating: Dataset/Train/WithMask/11.jpg  \n",
            "  inflating: Dataset/Train/WithMask/12.jpg  \n",
            "  inflating: Dataset/Train/WithMask/13.jpg  \n",
            "  inflating: Dataset/Train/WithMask/14.jpg  \n",
            "  inflating: Dataset/Train/WithMask/15.jpg  \n",
            "  inflating: Dataset/Train/WithMask/16.JPG  \n",
            "  inflating: Dataset/Train/WithMask/17.JPG  \n",
            "  inflating: Dataset/Train/WithMask/18.jpg  \n",
            "  inflating: Dataset/Train/WithMask/19.JPG  \n",
            "  inflating: Dataset/Train/WithMask/2.jpg  \n",
            "  inflating: Dataset/Train/WithMask/20.JPG  \n",
            "  inflating: Dataset/Train/WithMask/21.jpg  \n",
            "  inflating: Dataset/Train/WithMask/22.jpg  \n",
            "  inflating: Dataset/Train/WithMask/23.jpg  \n",
            "  inflating: Dataset/Train/WithMask/24.jpg  \n",
            "  inflating: Dataset/Train/WithMask/25.jpg  \n",
            "  inflating: Dataset/Train/WithMask/26.jpg  \n",
            "  inflating: Dataset/Train/WithMask/27.JPG  \n",
            "  inflating: Dataset/Train/WithMask/28.JPG  \n",
            "  inflating: Dataset/Train/WithMask/29.JPG  \n",
            "  inflating: Dataset/Train/WithMask/3.JPG  \n",
            "  inflating: Dataset/Train/WithMask/30.JPG  \n",
            "  inflating: Dataset/Train/WithMask/31.JPG  \n",
            "  inflating: Dataset/Train/WithMask/32.JPG  \n",
            "  inflating: Dataset/Train/WithMask/33.JPG  \n",
            "  inflating: Dataset/Train/WithMask/34.JPG  \n",
            "  inflating: Dataset/Train/WithMask/35.JPG  \n",
            "  inflating: Dataset/Train/WithMask/36.JPG  \n",
            "  inflating: Dataset/Train/WithMask/37.jpg  \n",
            "  inflating: Dataset/Train/WithMask/38.jpg  \n",
            "  inflating: Dataset/Train/WithMask/39.jpg  \n",
            "  inflating: Dataset/Train/WithMask/4.JPG  \n",
            "  inflating: Dataset/Train/WithMask/40.jpg  \n",
            "  inflating: Dataset/Train/WithMask/41.jpg  \n",
            "  inflating: Dataset/Train/WithMask/42.jpg  \n",
            "  inflating: Dataset/Train/WithMask/43.jpg  \n",
            "  inflating: Dataset/Train/WithMask/44.png  \n",
            "  inflating: Dataset/Train/WithMask/45.png  \n",
            "  inflating: Dataset/Train/WithMask/46.png  \n",
            "  inflating: Dataset/Train/WithMask/47.png  \n",
            "  inflating: Dataset/Train/WithMask/48.png  \n",
            "  inflating: Dataset/Train/WithMask/49.png  \n",
            "  inflating: Dataset/Train/WithMask/5.jpg  \n",
            "  inflating: Dataset/Train/WithMask/50.png  \n",
            "  inflating: Dataset/Train/WithMask/51.png  \n",
            "  inflating: Dataset/Train/WithMask/52.png  \n",
            "  inflating: Dataset/Train/WithMask/53.png  \n",
            "  inflating: Dataset/Train/WithMask/54.png  \n",
            "  inflating: Dataset/Train/WithMask/55.png  \n",
            "  inflating: Dataset/Train/WithMask/56.png  \n",
            "  inflating: Dataset/Train/WithMask/57.png  \n",
            "  inflating: Dataset/Train/WithMask/58.png  \n",
            "  inflating: Dataset/Train/WithMask/59.jpg  \n",
            "  inflating: Dataset/Train/WithMask/6.jpg  \n",
            "  inflating: Dataset/Train/WithMask/60.jpg  \n",
            "  inflating: Dataset/Train/WithMask/61.jpg  \n",
            "  inflating: Dataset/Train/WithMask/62.jpg  \n",
            "  inflating: Dataset/Train/WithMask/63.jpg  \n",
            "  inflating: Dataset/Train/WithMask/64.jpg  \n",
            "  inflating: Dataset/Train/WithMask/65.jpg  \n",
            "  inflating: Dataset/Train/WithMask/66.jpg  \n",
            "  inflating: Dataset/Train/WithMask/67.jpg  \n",
            "  inflating: Dataset/Train/WithMask/68.jpg  \n",
            "  inflating: Dataset/Train/WithMask/69.jpg  \n",
            "  inflating: Dataset/Train/WithMask/7.JPG  \n",
            "  inflating: Dataset/Train/WithMask/70.jpg  \n",
            "  inflating: Dataset/Train/WithMask/71.jpg  \n",
            "  inflating: Dataset/Train/WithMask/72.jpg  \n",
            "  inflating: Dataset/Train/WithMask/73.jpg  \n",
            "  inflating: Dataset/Train/WithMask/74.jpg  \n",
            "  inflating: Dataset/Train/WithMask/75.jpg  \n",
            "  inflating: Dataset/Train/WithMask/76.jpg  \n",
            "  inflating: Dataset/Train/WithMask/77.jpg  \n",
            "  inflating: Dataset/Train/WithMask/78.jpg  \n",
            "  inflating: Dataset/Train/WithMask/79.JPG  \n",
            "  inflating: Dataset/Train/WithMask/8.JPG  \n",
            "  inflating: Dataset/Train/WithMask/80.JPG  \n",
            "  inflating: Dataset/Train/WithMask/81.JPG  \n",
            "  inflating: Dataset/Train/WithMask/9.jpg  \n",
            "  inflating: Dataset/Train/WithoutMask/1.JPG  \n",
            "  inflating: Dataset/Train/WithoutMask/10.jpg  \n",
            "  inflating: Dataset/Train/WithoutMask/11.jpg  \n",
            "  inflating: Dataset/Train/WithoutMask/12.JPG  \n",
            "  inflating: Dataset/Train/WithoutMask/13.JPG  \n",
            "  inflating: Dataset/Train/WithoutMask/14.JPG  \n",
            "  inflating: Dataset/Train/WithoutMask/15.JPG  \n",
            "  inflating: Dataset/Train/WithoutMask/16.JPG  \n",
            "  inflating: Dataset/Train/WithoutMask/17.jpg  \n",
            "  inflating: Dataset/Train/WithoutMask/18.JPG  \n",
            "  inflating: Dataset/Train/WithoutMask/19.JPG  \n",
            "  inflating: Dataset/Train/WithoutMask/2.jpg  \n",
            "  inflating: Dataset/Train/WithoutMask/20.JPG  \n",
            "  inflating: Dataset/Train/WithoutMask/21.JPG  \n",
            "  inflating: Dataset/Train/WithoutMask/22.jpg  \n",
            "  inflating: Dataset/Train/WithoutMask/23.jpg  \n",
            "  inflating: Dataset/Train/WithoutMask/24.jpg  \n",
            "  inflating: Dataset/Train/WithoutMask/25.JPG  \n",
            "  inflating: Dataset/Train/WithoutMask/26.JPG  \n",
            "  inflating: Dataset/Train/WithoutMask/27.jpg  \n",
            "  inflating: Dataset/Train/WithoutMask/28.JPG  \n",
            "  inflating: Dataset/Train/WithoutMask/29.jpg  \n",
            "  inflating: Dataset/Train/WithoutMask/3.JPG  \n",
            "  inflating: Dataset/Train/WithoutMask/30.jpg  \n",
            "  inflating: Dataset/Train/WithoutMask/31.jpg  \n",
            "  inflating: Dataset/Train/WithoutMask/32.jpg  \n",
            "  inflating: Dataset/Train/WithoutMask/33.JPG  \n",
            "  inflating: Dataset/Train/WithoutMask/34.jpg  \n",
            "  inflating: Dataset/Train/WithoutMask/35.JPG  \n",
            "  inflating: Dataset/Train/WithoutMask/36.jpg  \n",
            "  inflating: Dataset/Train/WithoutMask/37.JPG  \n",
            "  inflating: Dataset/Train/WithoutMask/38.jpg  \n",
            "  inflating: Dataset/Train/WithoutMask/39.jpg  \n",
            "  inflating: Dataset/Train/WithoutMask/4.JPG  \n",
            "  inflating: Dataset/Train/WithoutMask/40.JPG  \n",
            "  inflating: Dataset/Train/WithoutMask/41.JPG  \n",
            "  inflating: Dataset/Train/WithoutMask/42.JPG  \n",
            "  inflating: Dataset/Train/WithoutMask/43.JPG  \n",
            "  inflating: Dataset/Train/WithoutMask/44.JPG  \n",
            "  inflating: Dataset/Train/WithoutMask/45.JPG  \n",
            "  inflating: Dataset/Train/WithoutMask/46.JPG  \n",
            "  inflating: Dataset/Train/WithoutMask/47.JPG  \n",
            "  inflating: Dataset/Train/WithoutMask/48.PNG  \n",
            "  inflating: Dataset/Train/WithoutMask/49.jpg  \n",
            "  inflating: Dataset/Train/WithoutMask/5.JPG  \n",
            "  inflating: Dataset/Train/WithoutMask/50.jpg  \n",
            "  inflating: Dataset/Train/WithoutMask/51.jpg  \n",
            "  inflating: Dataset/Train/WithoutMask/52.jpg  \n",
            "  inflating: Dataset/Train/WithoutMask/53.jpg  \n",
            "  inflating: Dataset/Train/WithoutMask/54.JPG  \n",
            "  inflating: Dataset/Train/WithoutMask/56.JPG  \n",
            "  inflating: Dataset/Train/WithoutMask/57.JPG  \n",
            "  inflating: Dataset/Train/WithoutMask/58.JPG  \n",
            "  inflating: Dataset/Train/WithoutMask/59.JPG  \n",
            "  inflating: Dataset/Train/WithoutMask/6.JPG  \n",
            "  inflating: Dataset/Train/WithoutMask/60.JPG  \n",
            "  inflating: Dataset/Train/WithoutMask/61.JPG  \n",
            "  inflating: Dataset/Train/WithoutMask/62.JPG  \n",
            "  inflating: Dataset/Train/WithoutMask/63.JPG  \n",
            "  inflating: Dataset/Train/WithoutMask/64.jpg  \n",
            "  inflating: Dataset/Train/WithoutMask/65.JPG  \n",
            "  inflating: Dataset/Train/WithoutMask/66.jpg  \n",
            "  inflating: Dataset/Train/WithoutMask/67.jpg  \n",
            "  inflating: Dataset/Train/WithoutMask/68.jpg  \n",
            "  inflating: Dataset/Train/WithoutMask/69.jpg  \n",
            "  inflating: Dataset/Train/WithoutMask/7.JPG  \n",
            "  inflating: Dataset/Train/WithoutMask/70.jpg  \n",
            "  inflating: Dataset/Train/WithoutMask/71.jpg  \n",
            "  inflating: Dataset/Train/WithoutMask/72.jpg  \n",
            "  inflating: Dataset/Train/WithoutMask/73.jpg  \n",
            "  inflating: Dataset/Train/WithoutMask/74.jpg  \n",
            "  inflating: Dataset/Train/WithoutMask/75.jpg  \n",
            "  inflating: Dataset/Train/WithoutMask/76.jpg  \n",
            "  inflating: Dataset/Train/WithoutMask/77.jpg  \n",
            "  inflating: Dataset/Train/WithoutMask/78.jpg  \n",
            "  inflating: Dataset/Train/WithoutMask/79.jpg  \n",
            "  inflating: Dataset/Train/WithoutMask/8.JPG  \n",
            "  inflating: Dataset/Train/WithoutMask/80.jpg  \n",
            "  inflating: Dataset/Train/WithoutMask/81.jpg  \n",
            "  inflating: Dataset/Train/WithoutMask/82.jpg  \n",
            "  inflating: Dataset/Train/WithoutMask/9.JPG  \n",
            "  inflating: Dataset/Validation/WithMask/1.JPG  \n",
            "  inflating: Dataset/Validation/WithMask/10.jpg  \n",
            "  inflating: Dataset/Validation/WithMask/2.jpg  \n",
            "  inflating: Dataset/Validation/WithMask/3.JPG  \n",
            "  inflating: Dataset/Validation/WithMask/4.jpg  \n",
            "  inflating: Dataset/Validation/WithMask/5.jpg  \n",
            "  inflating: Dataset/Validation/WithMask/6.jpg  \n",
            "  inflating: Dataset/Validation/WithMask/7.png  \n",
            "  inflating: Dataset/Validation/WithMask/8.png  \n",
            "  inflating: Dataset/Validation/WithMask/9.jpg  \n",
            "  inflating: Dataset/Validation/WithoutMask/1.JPG  \n",
            "  inflating: Dataset/Validation/WithoutMask/10.jpg  \n",
            "  inflating: Dataset/Validation/WithoutMask/2.JPG  \n",
            "  inflating: Dataset/Validation/WithoutMask/3.jpg  \n",
            "  inflating: Dataset/Validation/WithoutMask/4.JPG  \n",
            "  inflating: Dataset/Validation/WithoutMask/5.jpg  \n",
            "  inflating: Dataset/Validation/WithoutMask/6.jpg  \n",
            "  inflating: Dataset/Validation/WithoutMask/7.jpg  \n",
            "  inflating: Dataset/Validation/WithoutMask/8.jpg  \n",
            "  inflating: Dataset/Validation/WithoutMask/9.jpg  \n"
          ]
        }
      ]
    },
    {
      "cell_type": "code",
      "source": [
        "from tensorflow.keras.preprocessing.image import ImageDataGenerator\n",
        "from tensorflow.keras.applications import MobileNetV2\n",
        "from tensorflow.keras.layers import AveragePooling2D\n",
        "from tensorflow.keras.layers import Dropout\n",
        "from tensorflow.keras.layers import Flatten\n",
        "from tensorflow.keras.layers import Dense\n",
        "from tensorflow.keras.layers import Input\n",
        "from tensorflow.keras.models import Model\n",
        "from tensorflow.keras.optimizers import Adam\n",
        "from tensorflow.keras.applications.mobilenet_v2 import preprocess_input\n",
        "from tensorflow.keras.preprocessing.image import img_to_array\n",
        "from tensorflow.keras.preprocessing.image import load_img\n",
        "from tensorflow.keras.utils import to_categorical\n",
        "from sklearn.preprocessing import LabelBinarizer\n",
        "from sklearn.model_selection import train_test_split\n",
        "from sklearn.metrics import classification_report\n",
        "from imutils import paths\n",
        "import matplotlib.pyplot as plt\n",
        "import numpy as np\n",
        "import os"
      ],
      "metadata": {
        "id": "bUEpBoPe3orD"
      },
      "execution_count": 8,
      "outputs": []
    },
    {
      "cell_type": "code",
      "source": [
        "INIT_LR = 1e-4\n",
        "epochs = 20\n",
        "BS = 32"
      ],
      "metadata": {
        "id": "6IRKWh9V3u3_"
      },
      "execution_count": 9,
      "outputs": []
    },
    {
      "cell_type": "code",
      "source": [
        "DIRECTORY = r\"/content/Dataset/Train\"\n",
        "CATEGORIES = [\"WithMask\", \"WithoutMask\"]"
      ],
      "metadata": {
        "id": "ZtTQanpD3yZW"
      },
      "execution_count": 13,
      "outputs": []
    },
    {
      "cell_type": "code",
      "source": [
        "data = []\n",
        "labels = []"
      ],
      "metadata": {
        "id": "FxyoRQQp357n"
      },
      "execution_count": 14,
      "outputs": []
    },
    {
      "cell_type": "code",
      "source": [
        "for category in CATEGORIES:\n",
        "    path = os.path.join(DIRECTORY, category)\n",
        "    for img in os.listdir(path):\n",
        "        img_path = os.path.join(path, img)\n",
        "        image = load_img(img_path, target_size=(224, 224))\n",
        "        image = img_to_array(image)\n",
        "        image = preprocess_input(image)\n",
        "\n",
        "        data.append(image)\n",
        "        labels.append(category)"
      ],
      "metadata": {
        "id": "XmUL2Xnz3-kD"
      },
      "execution_count": 15,
      "outputs": []
    },
    {
      "cell_type": "code",
      "source": [
        "lb = LabelBinarizer()\n",
        "labels = lb.fit_transform(labels)\n",
        "labels = to_categorical(labels)\n",
        "\n",
        "data = np.array(data, dtype=\"float32\")\n",
        "labels = np.array(labels)"
      ],
      "metadata": {
        "id": "oTPo1cdk4GeF"
      },
      "execution_count": 16,
      "outputs": []
    },
    {
      "cell_type": "code",
      "source": [
        "\n",
        "(trainX, testX, trainY, testY) = train_test_split(data, labels, test_size=0.20, stratify=labels, random_state=42)"
      ],
      "metadata": {
        "id": "VwQ7t8074Zqs"
      },
      "execution_count": 17,
      "outputs": []
    },
    {
      "cell_type": "code",
      "source": [
        "aug = ImageDataGenerator(\n",
        "    rotation_range=20,\n",
        "    zoom_range=0.15,\n",
        "    width_shift_range=0.2,\n",
        "    height_shift_range=0.2,\n",
        "    shear_range=0.15,\n",
        "    horizontal_flip=True,\n",
        "    fill_mode=\"nearest\")"
      ],
      "metadata": {
        "id": "85B8OmOD4bT7"
      },
      "execution_count": 18,
      "outputs": []
    },
    {
      "cell_type": "code",
      "source": [
        "baseModel = MobileNetV2(weights=\"imagenet\", include_top=False, input_tensor=Input(shape=(224, 224, 3)))"
      ],
      "metadata": {
        "colab": {
          "base_uri": "https://localhost:8080/"
        },
        "id": "C-0z3uqx4dgN",
        "outputId": "b6d4a5ce-93d9-46c0-ee11-d6f3853ed798"
      },
      "execution_count": 19,
      "outputs": [
        {
          "output_type": "stream",
          "name": "stderr",
          "text": [
            "WARNING:tensorflow:`input_shape` is undefined or non-square, or `rows` is not in [96, 128, 160, 192, 224]. Weights for input shape (224, 224) will be loaded as the default.\n"
          ]
        },
        {
          "output_type": "stream",
          "name": "stdout",
          "text": [
            "Downloading data from https://storage.googleapis.com/tensorflow/keras-applications/mobilenet_v2/mobilenet_v2_weights_tf_dim_ordering_tf_kernels_1.0_224_no_top.h5\n",
            "9406464/9406464 [==============================] - 0s 0us/step\n"
          ]
        }
      ]
    },
    {
      "cell_type": "code",
      "source": [
        "headModel = baseModel.output\n",
        "headModel = AveragePooling2D(pool_size=(7, 7))(headModel)\n",
        "headModel = Flatten(name=\"flatten\")(headModel)\n",
        "headModel = Dense(128, activation=\"relu\")(headModel)\n",
        "headModel = Dropout(0.5)(headModel)\n",
        "headModel = Dense(2, activation=\"softmax\")(headModel)"
      ],
      "metadata": {
        "id": "HpNPy1rB4f3v"
      },
      "execution_count": 20,
      "outputs": []
    },
    {
      "cell_type": "code",
      "source": [
        "model = Model(inputs=baseModel.input, outputs=headModel)"
      ],
      "metadata": {
        "id": "zWMilT3p4ig9"
      },
      "execution_count": 21,
      "outputs": []
    },
    {
      "cell_type": "code",
      "source": [
        "for layer in baseModel.layers:\n",
        "    layer.trainable = False\n",
        "\n",
        "opt = Adam(lr=INIT_LR, decay=INIT_LR / epochs)\n",
        "model.compile(loss=\"binary_crossentropy\", optimizer=opt, metrics=[\"accuracy\"])"
      ],
      "metadata": {
        "colab": {
          "base_uri": "https://localhost:8080/"
        },
        "id": "Sn9SnN3q4kov",
        "outputId": "52277c54-ebbd-496e-8253-6e5377ad75f3"
      },
      "execution_count": 22,
      "outputs": [
        {
          "output_type": "stream",
          "name": "stderr",
          "text": [
            "/usr/local/lib/python3.8/dist-packages/keras/optimizers/optimizer_v2/adam.py:110: UserWarning: The `lr` argument is deprecated, use `learning_rate` instead.\n",
            "  super(Adam, self).__init__(name, **kwargs)\n"
          ]
        }
      ]
    },
    {
      "cell_type": "code",
      "source": [
        "H = model.fit(\n",
        "    aug.flow(trainX, trainY, batch_size=BS),\n",
        "    steps_per_epoch=len(trainX) // BS,\n",
        "    validation_data=(testX, testY),\n",
        "    validation_steps=len(testX) // BS,\n",
        "    epochs=epochs)"
      ],
      "metadata": {
        "colab": {
          "base_uri": "https://localhost:8080/"
        },
        "id": "J6sGCuQA4n0M",
        "outputId": "d51867c3-ffed-4b82-c549-0b745ad9dbb7"
      },
      "execution_count": 23,
      "outputs": [
        {
          "output_type": "stream",
          "name": "stdout",
          "text": [
            "Epoch 1/20\n",
            "4/4 [==============================] - 11s 2s/step - loss: 0.7815 - accuracy: 0.5625 - val_loss: 0.6749 - val_accuracy: 0.6667\n",
            "Epoch 2/20\n",
            "4/4 [==============================] - 7s 2s/step - loss: 0.6425 - accuracy: 0.6392 - val_loss: 0.6259 - val_accuracy: 0.6364\n",
            "Epoch 3/20\n",
            "4/4 [==============================] - 6s 2s/step - loss: 0.6190 - accuracy: 0.6562 - val_loss: 0.5859 - val_accuracy: 0.7576\n",
            "Epoch 4/20\n",
            "4/4 [==============================] - 5s 1s/step - loss: 0.6361 - accuracy: 0.6701 - val_loss: 0.5494 - val_accuracy: 0.8485\n",
            "Epoch 5/20\n",
            "4/4 [==============================] - 6s 2s/step - loss: 0.5493 - accuracy: 0.7734 - val_loss: 0.5219 - val_accuracy: 0.8485\n",
            "Epoch 6/20\n",
            "4/4 [==============================] - 6s 2s/step - loss: 0.5021 - accuracy: 0.8047 - val_loss: 0.4941 - val_accuracy: 0.8788\n",
            "Epoch 7/20\n",
            "4/4 [==============================] - 5s 1s/step - loss: 0.4882 - accuracy: 0.8351 - val_loss: 0.4690 - val_accuracy: 0.8485\n",
            "Epoch 8/20\n",
            "4/4 [==============================] - 6s 2s/step - loss: 0.4775 - accuracy: 0.8359 - val_loss: 0.4488 - val_accuracy: 0.9091\n",
            "Epoch 9/20\n",
            "4/4 [==============================] - 6s 1s/step - loss: 0.4476 - accuracy: 0.8454 - val_loss: 0.4322 - val_accuracy: 0.8788\n",
            "Epoch 10/20\n",
            "4/4 [==============================] - 5s 1s/step - loss: 0.4567 - accuracy: 0.8454 - val_loss: 0.4193 - val_accuracy: 0.8788\n",
            "Epoch 11/20\n",
            "4/4 [==============================] - 6s 1s/step - loss: 0.3822 - accuracy: 0.9278 - val_loss: 0.4025 - val_accuracy: 0.9091\n",
            "Epoch 12/20\n",
            "4/4 [==============================] - 5s 1s/step - loss: 0.3651 - accuracy: 0.8969 - val_loss: 0.3866 - val_accuracy: 0.9394\n",
            "Epoch 13/20\n",
            "4/4 [==============================] - 6s 2s/step - loss: 0.3670 - accuracy: 0.8750 - val_loss: 0.3716 - val_accuracy: 0.9394\n",
            "Epoch 14/20\n",
            "4/4 [==============================] - 5s 2s/step - loss: 0.3164 - accuracy: 0.9072 - val_loss: 0.3556 - val_accuracy: 0.9394\n",
            "Epoch 15/20\n",
            "4/4 [==============================] - 5s 1s/step - loss: 0.2987 - accuracy: 0.9485 - val_loss: 0.3418 - val_accuracy: 0.9394\n",
            "Epoch 16/20\n",
            "4/4 [==============================] - 5s 1s/step - loss: 0.3192 - accuracy: 0.8866 - val_loss: 0.3313 - val_accuracy: 0.9697\n",
            "Epoch 17/20\n",
            "4/4 [==============================] - 6s 2s/step - loss: 0.3248 - accuracy: 0.9219 - val_loss: 0.3212 - val_accuracy: 0.9697\n",
            "Epoch 18/20\n",
            "4/4 [==============================] - 7s 2s/step - loss: 0.3105 - accuracy: 0.9278 - val_loss: 0.3108 - val_accuracy: 0.9697\n",
            "Epoch 19/20\n",
            "4/4 [==============================] - 5s 1s/step - loss: 0.2806 - accuracy: 0.9588 - val_loss: 0.3017 - val_accuracy: 0.9697\n",
            "Epoch 20/20\n",
            "4/4 [==============================] - 6s 1s/step - loss: 0.2489 - accuracy: 0.9278 - val_loss: 0.2925 - val_accuracy: 0.9697\n"
          ]
        }
      ]
    },
    {
      "cell_type": "code",
      "source": [
        "predIdxs = model.predict(testX, batch_size=BS)"
      ],
      "metadata": {
        "colab": {
          "base_uri": "https://localhost:8080/"
        },
        "id": "58Frb9Hw4p9q",
        "outputId": "fef99fe5-348f-47eb-8bc3-7491668c3ead"
      },
      "execution_count": 24,
      "outputs": [
        {
          "output_type": "stream",
          "name": "stdout",
          "text": [
            "2/2 [==============================] - 3s 66ms/step\n"
          ]
        }
      ]
    },
    {
      "cell_type": "code",
      "source": [
        "predIdxs = np.argmax(predIdxs, axis=1)"
      ],
      "metadata": {
        "id": "jy4ZFLDH5XUH"
      },
      "execution_count": 25,
      "outputs": []
    },
    {
      "cell_type": "code",
      "source": [
        "print(classification_report(testY.argmax(axis=1), predIdxs, target_names=lb.classes_))"
      ],
      "metadata": {
        "colab": {
          "base_uri": "https://localhost:8080/"
        },
        "id": "9D9Cxki25vla",
        "outputId": "76f06b77-5173-49c3-df10-dc1980f66f98"
      },
      "execution_count": 26,
      "outputs": [
        {
          "output_type": "stream",
          "name": "stdout",
          "text": [
            "              precision    recall  f1-score   support\n",
            "\n",
            "    WithMask       0.94      1.00      0.97        16\n",
            " WithoutMask       1.00      0.94      0.97        17\n",
            "\n",
            "    accuracy                           0.97        33\n",
            "   macro avg       0.97      0.97      0.97        33\n",
            "weighted avg       0.97      0.97      0.97        33\n",
            "\n"
          ]
        }
      ]
    },
    {
      "cell_type": "code",
      "source": [
        "from tensorflow.keras.models import save_model, load_model"
      ],
      "metadata": {
        "id": "C2hsQhq_6E-5"
      },
      "execution_count": 28,
      "outputs": []
    },
    {
      "cell_type": "code",
      "source": [
        "save_model(model, filepath='/content/drive/MyDrive/kaggle_api/mask_detectors.model', save_format=\"h5\")"
      ],
      "metadata": {
        "id": "bz7tKD-S6HbY"
      },
      "execution_count": 29,
      "outputs": []
    },
    {
      "cell_type": "code",
      "source": [
        "model.save(\"mask_detectors.model\", save_format=\"h5\")"
      ],
      "metadata": {
        "id": "mqpiV8HP54W3"
      },
      "execution_count": 27,
      "outputs": []
    },
    {
      "cell_type": "code",
      "source": [],
      "metadata": {
        "id": "zbqlZJZ358jE"
      },
      "execution_count": null,
      "outputs": []
    }
  ]
}